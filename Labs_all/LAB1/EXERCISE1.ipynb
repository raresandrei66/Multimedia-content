{
 "cells": [
  {
   "cell_type": "markdown",
   "metadata": {},
   "source": [
    "# Exercise 1: Analyzing Online Store Sales Data\n",
    "\n",
    "## Objective: \n",
    "The goal of this exercise is to help students become familiar with NumPy, pandas, and Matplotlib by analyzing and visualizing sales and revenue data from an online store"
   ]
  },
  {
   "cell_type": "code",
   "execution_count": null,
   "metadata": {},
   "outputs": [],
   "source": [
    "import numpy as np\n",
    "import pandas as pd\n",
    "import matplotlib.pyplot as plt"
   ]
  },
  {
   "cell_type": "markdown",
   "metadata": {},
   "source": [
    "Create some sample data to work with. For example, you can generate random sales and revenue data for a hypothetical online store.\n",
    "\n",
    "TIP: use np.arange, np.random.randint and np.random.uniform\n",
    "\n",
    "see: https://numpy.org/doc/stable/reference/random/generated/numpy.random.randint.html\n",
    "see: https://numpy.org/doc/stable/reference/generated/numpy.arange.html\n",
    "see: https://numpy.org/doc/stable/reference/random/generated/numpy.random.uniform.html"
   ]
  },
  {
   "cell_type": "code",
   "execution_count": null,
   "metadata": {},
   "outputs": [],
   "source": [
    "np.random.seed(0)\n",
    "months = #your_code\n",
    "sales = #your_code\n",
    "revenue = #your_code"
   ]
  },
  {
   "cell_type": "markdown",
   "metadata": {},
   "source": [
    "Create a pandas DataFrame to store the data. You can also add column names for clarity."
   ]
  },
  {
   "cell_type": "code",
   "execution_count": null,
   "metadata": {},
   "outputs": [],
   "source": [
    "data = pd.DataFrame(#your_code)"
   ]
  },
  {
   "cell_type": "markdown",
   "metadata": {},
   "source": [
    "Calculate and display basic statistics for the data using pandas. For example, you can show the mean, median, and standard deviation of sales and revenue.\n",
    "\n",
    "TIPS: data['Sales'].mean() \n",
    "https://pandas.pydata.org/docs/reference/api/pandas.DataFrame.mean.html"
   ]
  },
  {
   "cell_type": "code",
   "execution_count": null,
   "metadata": {},
   "outputs": [],
   "source": [
    "sales_mean = #your_code\n",
    "revenue_median = #your_code\n",
    "sales_std = #your_code\n",
    "print(f\"Mean Sales: {sales_mean}\")\n",
    "print(f\"Median Revenue: {revenue_median}\")\n",
    "print(f\"Standard Deviation of Sales: {sales_std}\")\n"
   ]
  },
  {
   "cell_type": "markdown",
   "metadata": {},
   "source": [
    "Do the same using numpy"
   ]
  },
  {
   "cell_type": "code",
   "execution_count": null,
   "metadata": {},
   "outputs": [],
   "source": [
    "#YOUR CODE"
   ]
  },
  {
   "cell_type": "markdown",
   "metadata": {},
   "source": [
    "Visualize the data using Matplotlib. Create a plot to show the monthly sales and a line plot for monthly revenue."
   ]
  },
  {
   "cell_type": "code",
   "execution_count": null,
   "metadata": {},
   "outputs": [],
   "source": [
    "plt.figure(figsize=(10, 5))\n",
    "\n",
    "plt.subplot(1, 2, 1)\n",
    "#YOUR CODE\n",
    "\n",
    "plt.subplot(1, 2, 2)\n",
    "#YOUR CODE\n",
    "\n",
    "plt.tight_layout()\n",
    "plt.show()"
   ]
  }
 ],
 "metadata": {
  "kernelspec": {
   "display_name": "venv_LAB1",
   "language": "python",
   "name": "python3"
  },
  "language_info": {
   "name": "python",
   "version": "3.12.0"
  }
 },
 "nbformat": 4,
 "nbformat_minor": 2
}
